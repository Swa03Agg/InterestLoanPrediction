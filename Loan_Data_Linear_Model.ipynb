{
 "cells": [
  {
   "cell_type": "markdown",
   "metadata": {},
   "source": [
    "# Predicting Interest rates"
   ]
  },
  {
   "cell_type": "markdown",
   "metadata": {},
   "source": [
    "#### Purpose of the Notebook\n"
   ]
  },
  {
   "cell_type": "markdown",
   "metadata": {},
   "source": [
    "### To create a basic linear regression model to predict the interest rates of loans to be granted."
   ]
  },
  {
   "cell_type": "markdown",
   "metadata": {},
   "source": [
    "### Step 1: Importing the libraries and data"
   ]
  },
  {
   "cell_type": "code",
   "execution_count": 1,
   "metadata": {},
   "outputs": [],
   "source": [
    "import pandas as pd\n",
    "import seaborn as sns\n",
    "from matplotlib import pyplot as plt "
   ]
  },
  {
   "cell_type": "code",
   "execution_count": 2,
   "metadata": {},
   "outputs": [],
   "source": [
    "df = pd.read_csv(\"loan_data_train.csv\")"
   ]
  },
  {
   "cell_type": "markdown",
   "metadata": {},
   "source": [
    "### Step 2 : Exploring the dataset"
   ]
  },
  {
   "cell_type": "code",
   "execution_count": 3,
   "metadata": {},
   "outputs": [
    {
     "data": {
      "text/html": [
       "<div>\n",
       "<style scoped>\n",
       "    .dataframe tbody tr th:only-of-type {\n",
       "        vertical-align: middle;\n",
       "    }\n",
       "\n",
       "    .dataframe tbody tr th {\n",
       "        vertical-align: top;\n",
       "    }\n",
       "\n",
       "    .dataframe thead th {\n",
       "        text-align: right;\n",
       "    }\n",
       "</style>\n",
       "<table border=\"1\" class=\"dataframe\">\n",
       "  <thead>\n",
       "    <tr style=\"text-align: right;\">\n",
       "      <th></th>\n",
       "      <th>ID</th>\n",
       "      <th>Amount.Requested</th>\n",
       "      <th>Amount.Funded.By.Investors</th>\n",
       "      <th>Interest.Rate</th>\n",
       "      <th>Loan.Length</th>\n",
       "      <th>Loan.Purpose</th>\n",
       "      <th>Debt.To.Income.Ratio</th>\n",
       "      <th>State</th>\n",
       "      <th>Home.Ownership</th>\n",
       "      <th>Monthly.Income</th>\n",
       "      <th>FICO.Range</th>\n",
       "      <th>Open.CREDIT.Lines</th>\n",
       "      <th>Revolving.CREDIT.Balance</th>\n",
       "      <th>Inquiries.in.the.Last.6.Months</th>\n",
       "      <th>Employment.Length</th>\n",
       "    </tr>\n",
       "  </thead>\n",
       "  <tbody>\n",
       "    <tr>\n",
       "      <th>0</th>\n",
       "      <td>79542.0</td>\n",
       "      <td>25000</td>\n",
       "      <td>25000</td>\n",
       "      <td>18.49%</td>\n",
       "      <td>60 months</td>\n",
       "      <td>debt_consolidation</td>\n",
       "      <td>27.56%</td>\n",
       "      <td>VA</td>\n",
       "      <td>MORTGAGE</td>\n",
       "      <td>8606.56</td>\n",
       "      <td>720-724</td>\n",
       "      <td>11</td>\n",
       "      <td>15210</td>\n",
       "      <td>3.0</td>\n",
       "      <td>5 years</td>\n",
       "    </tr>\n",
       "    <tr>\n",
       "      <th>1</th>\n",
       "      <td>75473.0</td>\n",
       "      <td>19750</td>\n",
       "      <td>19750</td>\n",
       "      <td>17.27%</td>\n",
       "      <td>60 months</td>\n",
       "      <td>debt_consolidation</td>\n",
       "      <td>13.39%</td>\n",
       "      <td>NY</td>\n",
       "      <td>MORTGAGE</td>\n",
       "      <td>6737.50</td>\n",
       "      <td>710-714</td>\n",
       "      <td>14</td>\n",
       "      <td>19070</td>\n",
       "      <td>3.0</td>\n",
       "      <td>4 years</td>\n",
       "    </tr>\n",
       "    <tr>\n",
       "      <th>2</th>\n",
       "      <td>67265.0</td>\n",
       "      <td>2100</td>\n",
       "      <td>2100</td>\n",
       "      <td>14.33%</td>\n",
       "      <td>36 months</td>\n",
       "      <td>major_purchase</td>\n",
       "      <td>3.50%</td>\n",
       "      <td>LA</td>\n",
       "      <td>OWN</td>\n",
       "      <td>1000.00</td>\n",
       "      <td>690-694</td>\n",
       "      <td>13</td>\n",
       "      <td>893</td>\n",
       "      <td>1.0</td>\n",
       "      <td>&lt; 1 year</td>\n",
       "    </tr>\n",
       "    <tr>\n",
       "      <th>3</th>\n",
       "      <td>80167.0</td>\n",
       "      <td>28000</td>\n",
       "      <td>28000</td>\n",
       "      <td>16.29%</td>\n",
       "      <td>36 months</td>\n",
       "      <td>credit_card</td>\n",
       "      <td>19.62%</td>\n",
       "      <td>NV</td>\n",
       "      <td>MORTGAGE</td>\n",
       "      <td>7083.33</td>\n",
       "      <td>710-714</td>\n",
       "      <td>12</td>\n",
       "      <td>38194</td>\n",
       "      <td>1.0</td>\n",
       "      <td>10+ years</td>\n",
       "    </tr>\n",
       "    <tr>\n",
       "      <th>4</th>\n",
       "      <td>17240.0</td>\n",
       "      <td>24250</td>\n",
       "      <td>17431.82</td>\n",
       "      <td>12.23%</td>\n",
       "      <td>60 months</td>\n",
       "      <td>credit_card</td>\n",
       "      <td>23.79%</td>\n",
       "      <td>OH</td>\n",
       "      <td>MORTGAGE</td>\n",
       "      <td>5833.33</td>\n",
       "      <td>730-734</td>\n",
       "      <td>6</td>\n",
       "      <td>31061</td>\n",
       "      <td>2.0</td>\n",
       "      <td>10+ years</td>\n",
       "    </tr>\n",
       "  </tbody>\n",
       "</table>\n",
       "</div>"
      ],
      "text/plain": [
       "        ID Amount.Requested Amount.Funded.By.Investors Interest.Rate  \\\n",
       "0  79542.0            25000                      25000        18.49%   \n",
       "1  75473.0            19750                      19750        17.27%   \n",
       "2  67265.0             2100                       2100        14.33%   \n",
       "3  80167.0            28000                      28000        16.29%   \n",
       "4  17240.0            24250                   17431.82        12.23%   \n",
       "\n",
       "  Loan.Length        Loan.Purpose Debt.To.Income.Ratio State Home.Ownership  \\\n",
       "0   60 months  debt_consolidation               27.56%    VA       MORTGAGE   \n",
       "1   60 months  debt_consolidation               13.39%    NY       MORTGAGE   \n",
       "2   36 months      major_purchase                3.50%    LA            OWN   \n",
       "3   36 months         credit_card               19.62%    NV       MORTGAGE   \n",
       "4   60 months         credit_card               23.79%    OH       MORTGAGE   \n",
       "\n",
       "   Monthly.Income FICO.Range Open.CREDIT.Lines Revolving.CREDIT.Balance  \\\n",
       "0         8606.56    720-724                11                    15210   \n",
       "1         6737.50    710-714                14                    19070   \n",
       "2         1000.00    690-694                13                      893   \n",
       "3         7083.33    710-714                12                    38194   \n",
       "4         5833.33    730-734                 6                    31061   \n",
       "\n",
       "   Inquiries.in.the.Last.6.Months Employment.Length  \n",
       "0                             3.0           5 years  \n",
       "1                             3.0           4 years  \n",
       "2                             1.0          < 1 year  \n",
       "3                             1.0         10+ years  \n",
       "4                             2.0         10+ years  "
      ]
     },
     "execution_count": 3,
     "metadata": {},
     "output_type": "execute_result"
    }
   ],
   "source": [
    "df.head()"
   ]
  },
  {
   "cell_type": "code",
   "execution_count": 4,
   "metadata": {},
   "outputs": [
    {
     "name": "stdout",
     "output_type": "stream",
     "text": [
      "<class 'pandas.core.frame.DataFrame'>\n",
      "RangeIndex: 2200 entries, 0 to 2199\n",
      "Data columns (total 15 columns):\n",
      " #   Column                          Non-Null Count  Dtype  \n",
      "---  ------                          --------------  -----  \n",
      " 0   ID                              2199 non-null   float64\n",
      " 1   Amount.Requested                2199 non-null   object \n",
      " 2   Amount.Funded.By.Investors      2199 non-null   object \n",
      " 3   Interest.Rate                   2200 non-null   object \n",
      " 4   Loan.Length                     2199 non-null   object \n",
      " 5   Loan.Purpose                    2199 non-null   object \n",
      " 6   Debt.To.Income.Ratio            2199 non-null   object \n",
      " 7   State                           2199 non-null   object \n",
      " 8   Home.Ownership                  2199 non-null   object \n",
      " 9   Monthly.Income                  2197 non-null   float64\n",
      " 10  FICO.Range                      2200 non-null   object \n",
      " 11  Open.CREDIT.Lines               2196 non-null   object \n",
      " 12  Revolving.CREDIT.Balance        2197 non-null   object \n",
      " 13  Inquiries.in.the.Last.6.Months  2197 non-null   float64\n",
      " 14  Employment.Length               2131 non-null   object \n",
      "dtypes: float64(3), object(12)\n",
      "memory usage: 257.9+ KB\n"
     ]
    }
   ],
   "source": [
    "df.info()"
   ]
  },
  {
   "cell_type": "markdown",
   "metadata": {},
   "source": [
    "### Step 3: Cleaning the data"
   ]
  },
  {
   "cell_type": "code",
   "execution_count": 5,
   "metadata": {},
   "outputs": [],
   "source": [
    "df[['FICO_min','FICO_max']] = df[\"FICO.Range\"].str.split(\"-\",expand=True)"
   ]
  },
  {
   "cell_type": "code",
   "execution_count": 6,
   "metadata": {},
   "outputs": [],
   "source": [
    "df[\"Interest.Rate\"] = df[\"Interest.Rate\"].str.replace(\"%\",\"\")"
   ]
  },
  {
   "cell_type": "code",
   "execution_count": 7,
   "metadata": {},
   "outputs": [],
   "source": [
    "df[\"Amount.Requested\"] = pd.to_numeric(df[\"Amount.Requested\"], errors = \"coerce\")\n",
    "df[\"Amount.Funded.By.Investors\"] = pd.to_numeric(df[\"Amount.Funded.By.Investors\"], errors = \"coerce\")\n",
    "df[\"Revolving.CREDIT.Balance\"] = pd.to_numeric(df[\"Revolving.CREDIT.Balance\"], errors = \"coerce\")\n",
    "df[\"Open.CREDIT.Lines\"] =  pd.to_numeric(df[\"Open.CREDIT.Lines\"], errors = \"coerce\")\n",
    "df[\"FICO_min\"] = pd.to_numeric(df[\"FICO_min\"], errors = \"coerce\")\n",
    "df[\"FICO_max\"] = pd.to_numeric(df[\"FICO_max\"], errors = \"coerce\")\n",
    "df[\"Interest.Rate\"] = pd.to_numeric(df[\"Interest.Rate\"],errors = \"coerce\")"
   ]
  },
  {
   "cell_type": "code",
   "execution_count": 8,
   "metadata": {},
   "outputs": [
    {
     "name": "stdout",
     "output_type": "stream",
     "text": [
      "<class 'pandas.core.frame.DataFrame'>\n",
      "RangeIndex: 2200 entries, 0 to 2199\n",
      "Data columns (total 17 columns):\n",
      " #   Column                          Non-Null Count  Dtype  \n",
      "---  ------                          --------------  -----  \n",
      " 0   ID                              2199 non-null   float64\n",
      " 1   Amount.Requested                2195 non-null   float64\n",
      " 2   Amount.Funded.By.Investors      2196 non-null   float64\n",
      " 3   Interest.Rate                   2200 non-null   float64\n",
      " 4   Loan.Length                     2199 non-null   object \n",
      " 5   Loan.Purpose                    2199 non-null   object \n",
      " 6   Debt.To.Income.Ratio            2199 non-null   object \n",
      " 7   State                           2199 non-null   object \n",
      " 8   Home.Ownership                  2199 non-null   object \n",
      " 9   Monthly.Income                  2197 non-null   float64\n",
      " 10  FICO.Range                      2200 non-null   object \n",
      " 11  Open.CREDIT.Lines               2193 non-null   float64\n",
      " 12  Revolving.CREDIT.Balance        2195 non-null   float64\n",
      " 13  Inquiries.in.the.Last.6.Months  2197 non-null   float64\n",
      " 14  Employment.Length               2131 non-null   object \n",
      " 15  FICO_min                        2200 non-null   int64  \n",
      " 16  FICO_max                        2200 non-null   int64  \n",
      "dtypes: float64(8), int64(2), object(7)\n",
      "memory usage: 292.3+ KB\n"
     ]
    }
   ],
   "source": [
    "df.info()"
   ]
  },
  {
   "cell_type": "code",
   "execution_count": 9,
   "metadata": {},
   "outputs": [
    {
     "data": {
      "text/plain": [
       "ID                                 1\n",
       "Amount.Requested                   5\n",
       "Amount.Funded.By.Investors         4\n",
       "Interest.Rate                      0\n",
       "Loan.Length                        1\n",
       "Loan.Purpose                       1\n",
       "Debt.To.Income.Ratio               1\n",
       "State                              1\n",
       "Home.Ownership                     1\n",
       "Monthly.Income                     3\n",
       "FICO.Range                         0\n",
       "Open.CREDIT.Lines                  7\n",
       "Revolving.CREDIT.Balance           5\n",
       "Inquiries.in.the.Last.6.Months     3\n",
       "Employment.Length                 69\n",
       "FICO_min                           0\n",
       "FICO_max                           0\n",
       "dtype: int64"
      ]
     },
     "execution_count": 9,
     "metadata": {},
     "output_type": "execute_result"
    }
   ],
   "source": [
    "df.isna().sum()"
   ]
  },
  {
   "cell_type": "code",
   "execution_count": 10,
   "metadata": {},
   "outputs": [],
   "source": [
    "df.dropna(inplace = True)"
   ]
  },
  {
   "cell_type": "code",
   "execution_count": 11,
   "metadata": {},
   "outputs": [
    {
     "data": {
      "text/plain": [
       "ID                                0\n",
       "Amount.Requested                  0\n",
       "Amount.Funded.By.Investors        0\n",
       "Interest.Rate                     0\n",
       "Loan.Length                       0\n",
       "Loan.Purpose                      0\n",
       "Debt.To.Income.Ratio              0\n",
       "State                             0\n",
       "Home.Ownership                    0\n",
       "Monthly.Income                    0\n",
       "FICO.Range                        0\n",
       "Open.CREDIT.Lines                 0\n",
       "Revolving.CREDIT.Balance          0\n",
       "Inquiries.in.the.Last.6.Months    0\n",
       "Employment.Length                 0\n",
       "FICO_min                          0\n",
       "FICO_max                          0\n",
       "dtype: int64"
      ]
     },
     "execution_count": 11,
     "metadata": {},
     "output_type": "execute_result"
    }
   ],
   "source": [
    "df.isna().sum()"
   ]
  },
  {
   "cell_type": "code",
   "execution_count": 12,
   "metadata": {},
   "outputs": [
    {
     "name": "stdout",
     "output_type": "stream",
     "text": [
      "<class 'pandas.core.frame.DataFrame'>\n",
      "Int64Index: 2105 entries, 0 to 2199\n",
      "Data columns (total 17 columns):\n",
      " #   Column                          Non-Null Count  Dtype  \n",
      "---  ------                          --------------  -----  \n",
      " 0   ID                              2105 non-null   float64\n",
      " 1   Amount.Requested                2105 non-null   float64\n",
      " 2   Amount.Funded.By.Investors      2105 non-null   float64\n",
      " 3   Interest.Rate                   2105 non-null   float64\n",
      " 4   Loan.Length                     2105 non-null   object \n",
      " 5   Loan.Purpose                    2105 non-null   object \n",
      " 6   Debt.To.Income.Ratio            2105 non-null   object \n",
      " 7   State                           2105 non-null   object \n",
      " 8   Home.Ownership                  2105 non-null   object \n",
      " 9   Monthly.Income                  2105 non-null   float64\n",
      " 10  FICO.Range                      2105 non-null   object \n",
      " 11  Open.CREDIT.Lines               2105 non-null   float64\n",
      " 12  Revolving.CREDIT.Balance        2105 non-null   float64\n",
      " 13  Inquiries.in.the.Last.6.Months  2105 non-null   float64\n",
      " 14  Employment.Length               2105 non-null   object \n",
      " 15  FICO_min                        2105 non-null   int64  \n",
      " 16  FICO_max                        2105 non-null   int64  \n",
      "dtypes: float64(8), int64(2), object(7)\n",
      "memory usage: 296.0+ KB\n"
     ]
    }
   ],
   "source": [
    "df.info()"
   ]
  },
  {
   "cell_type": "markdown",
   "metadata": {},
   "source": [
    "### Step 4: Data Pre-processing"
   ]
  },
  {
   "cell_type": "code",
   "execution_count": 13,
   "metadata": {},
   "outputs": [],
   "source": [
    "df2 = df.iloc[:,1:]"
   ]
  },
  {
   "cell_type": "code",
   "execution_count": 14,
   "metadata": {},
   "outputs": [
    {
     "data": {
      "text/plain": [
       "Index(['Amount.Requested', 'Amount.Funded.By.Investors', 'Interest.Rate',\n",
       "       'Loan.Length', 'Loan.Purpose', 'Debt.To.Income.Ratio', 'State',\n",
       "       'Home.Ownership', 'Monthly.Income', 'FICO.Range', 'Open.CREDIT.Lines',\n",
       "       'Revolving.CREDIT.Balance', 'Inquiries.in.the.Last.6.Months',\n",
       "       'Employment.Length', 'FICO_min', 'FICO_max'],\n",
       "      dtype='object')"
      ]
     },
     "execution_count": 14,
     "metadata": {},
     "output_type": "execute_result"
    }
   ],
   "source": [
    "df2.columns"
   ]
  },
  {
   "cell_type": "code",
   "execution_count": 15,
   "metadata": {},
   "outputs": [],
   "source": [
    "df2.drop(['FICO.Range'], axis = 1, inplace = True)\n",
    "df2.drop([\"Amount.Funded.By.Investors\"], axis = 1, inplace = True)"
   ]
  },
  {
   "cell_type": "code",
   "execution_count": 16,
   "metadata": {},
   "outputs": [
    {
     "data": {
      "text/plain": [
       "Index(['Amount.Requested', 'Interest.Rate', 'Loan.Length', 'Loan.Purpose',\n",
       "       'Debt.To.Income.Ratio', 'State', 'Home.Ownership', 'Monthly.Income',\n",
       "       'Open.CREDIT.Lines', 'Revolving.CREDIT.Balance',\n",
       "       'Inquiries.in.the.Last.6.Months', 'Employment.Length', 'FICO_min',\n",
       "       'FICO_max'],\n",
       "      dtype='object')"
      ]
     },
     "execution_count": 16,
     "metadata": {},
     "output_type": "execute_result"
    }
   ],
   "source": [
    "df2.columns"
   ]
  },
  {
   "cell_type": "code",
   "execution_count": 17,
   "metadata": {},
   "outputs": [],
   "source": [
    "df3 = pd.get_dummies(df2)"
   ]
  },
  {
   "cell_type": "code",
   "execution_count": 18,
   "metadata": {},
   "outputs": [
    {
     "data": {
      "text/html": [
       "<div>\n",
       "<style scoped>\n",
       "    .dataframe tbody tr th:only-of-type {\n",
       "        vertical-align: middle;\n",
       "    }\n",
       "\n",
       "    .dataframe tbody tr th {\n",
       "        vertical-align: top;\n",
       "    }\n",
       "\n",
       "    .dataframe thead th {\n",
       "        text-align: right;\n",
       "    }\n",
       "</style>\n",
       "<table border=\"1\" class=\"dataframe\">\n",
       "  <thead>\n",
       "    <tr style=\"text-align: right;\">\n",
       "      <th></th>\n",
       "      <th>Amount.Requested</th>\n",
       "      <th>Interest.Rate</th>\n",
       "      <th>Monthly.Income</th>\n",
       "      <th>Open.CREDIT.Lines</th>\n",
       "      <th>Revolving.CREDIT.Balance</th>\n",
       "      <th>Inquiries.in.the.Last.6.Months</th>\n",
       "      <th>FICO_min</th>\n",
       "      <th>FICO_max</th>\n",
       "      <th>Loan.Length_.</th>\n",
       "      <th>Loan.Length_36 months</th>\n",
       "      <th>...</th>\n",
       "      <th>Employment.Length_10+ years</th>\n",
       "      <th>Employment.Length_2 years</th>\n",
       "      <th>Employment.Length_3 years</th>\n",
       "      <th>Employment.Length_4 years</th>\n",
       "      <th>Employment.Length_5 years</th>\n",
       "      <th>Employment.Length_6 years</th>\n",
       "      <th>Employment.Length_7 years</th>\n",
       "      <th>Employment.Length_8 years</th>\n",
       "      <th>Employment.Length_9 years</th>\n",
       "      <th>Employment.Length_&lt; 1 year</th>\n",
       "    </tr>\n",
       "  </thead>\n",
       "  <tbody>\n",
       "    <tr>\n",
       "      <th>0</th>\n",
       "      <td>25000.0</td>\n",
       "      <td>18.49</td>\n",
       "      <td>8606.56</td>\n",
       "      <td>11.0</td>\n",
       "      <td>15210.0</td>\n",
       "      <td>3.0</td>\n",
       "      <td>720</td>\n",
       "      <td>724</td>\n",
       "      <td>0</td>\n",
       "      <td>0</td>\n",
       "      <td>...</td>\n",
       "      <td>0</td>\n",
       "      <td>0</td>\n",
       "      <td>0</td>\n",
       "      <td>0</td>\n",
       "      <td>1</td>\n",
       "      <td>0</td>\n",
       "      <td>0</td>\n",
       "      <td>0</td>\n",
       "      <td>0</td>\n",
       "      <td>0</td>\n",
       "    </tr>\n",
       "    <tr>\n",
       "      <th>1</th>\n",
       "      <td>19750.0</td>\n",
       "      <td>17.27</td>\n",
       "      <td>6737.50</td>\n",
       "      <td>14.0</td>\n",
       "      <td>19070.0</td>\n",
       "      <td>3.0</td>\n",
       "      <td>710</td>\n",
       "      <td>714</td>\n",
       "      <td>0</td>\n",
       "      <td>0</td>\n",
       "      <td>...</td>\n",
       "      <td>0</td>\n",
       "      <td>0</td>\n",
       "      <td>0</td>\n",
       "      <td>1</td>\n",
       "      <td>0</td>\n",
       "      <td>0</td>\n",
       "      <td>0</td>\n",
       "      <td>0</td>\n",
       "      <td>0</td>\n",
       "      <td>0</td>\n",
       "    </tr>\n",
       "    <tr>\n",
       "      <th>2</th>\n",
       "      <td>2100.0</td>\n",
       "      <td>14.33</td>\n",
       "      <td>1000.00</td>\n",
       "      <td>13.0</td>\n",
       "      <td>893.0</td>\n",
       "      <td>1.0</td>\n",
       "      <td>690</td>\n",
       "      <td>694</td>\n",
       "      <td>0</td>\n",
       "      <td>1</td>\n",
       "      <td>...</td>\n",
       "      <td>0</td>\n",
       "      <td>0</td>\n",
       "      <td>0</td>\n",
       "      <td>0</td>\n",
       "      <td>0</td>\n",
       "      <td>0</td>\n",
       "      <td>0</td>\n",
       "      <td>0</td>\n",
       "      <td>0</td>\n",
       "      <td>1</td>\n",
       "    </tr>\n",
       "    <tr>\n",
       "      <th>3</th>\n",
       "      <td>28000.0</td>\n",
       "      <td>16.29</td>\n",
       "      <td>7083.33</td>\n",
       "      <td>12.0</td>\n",
       "      <td>38194.0</td>\n",
       "      <td>1.0</td>\n",
       "      <td>710</td>\n",
       "      <td>714</td>\n",
       "      <td>0</td>\n",
       "      <td>1</td>\n",
       "      <td>...</td>\n",
       "      <td>1</td>\n",
       "      <td>0</td>\n",
       "      <td>0</td>\n",
       "      <td>0</td>\n",
       "      <td>0</td>\n",
       "      <td>0</td>\n",
       "      <td>0</td>\n",
       "      <td>0</td>\n",
       "      <td>0</td>\n",
       "      <td>0</td>\n",
       "    </tr>\n",
       "    <tr>\n",
       "      <th>4</th>\n",
       "      <td>24250.0</td>\n",
       "      <td>12.23</td>\n",
       "      <td>5833.33</td>\n",
       "      <td>6.0</td>\n",
       "      <td>31061.0</td>\n",
       "      <td>2.0</td>\n",
       "      <td>730</td>\n",
       "      <td>734</td>\n",
       "      <td>0</td>\n",
       "      <td>0</td>\n",
       "      <td>...</td>\n",
       "      <td>1</td>\n",
       "      <td>0</td>\n",
       "      <td>0</td>\n",
       "      <td>0</td>\n",
       "      <td>0</td>\n",
       "      <td>0</td>\n",
       "      <td>0</td>\n",
       "      <td>0</td>\n",
       "      <td>0</td>\n",
       "      <td>0</td>\n",
       "    </tr>\n",
       "  </tbody>\n",
       "</table>\n",
       "<p>5 rows × 1568 columns</p>\n",
       "</div>"
      ],
      "text/plain": [
       "   Amount.Requested  Interest.Rate  Monthly.Income  Open.CREDIT.Lines  \\\n",
       "0           25000.0          18.49         8606.56               11.0   \n",
       "1           19750.0          17.27         6737.50               14.0   \n",
       "2            2100.0          14.33         1000.00               13.0   \n",
       "3           28000.0          16.29         7083.33               12.0   \n",
       "4           24250.0          12.23         5833.33                6.0   \n",
       "\n",
       "   Revolving.CREDIT.Balance  Inquiries.in.the.Last.6.Months  FICO_min  \\\n",
       "0                   15210.0                             3.0       720   \n",
       "1                   19070.0                             3.0       710   \n",
       "2                     893.0                             1.0       690   \n",
       "3                   38194.0                             1.0       710   \n",
       "4                   31061.0                             2.0       730   \n",
       "\n",
       "   FICO_max  Loan.Length_.  Loan.Length_36 months  ...  \\\n",
       "0       724              0                      0  ...   \n",
       "1       714              0                      0  ...   \n",
       "2       694              0                      1  ...   \n",
       "3       714              0                      1  ...   \n",
       "4       734              0                      0  ...   \n",
       "\n",
       "   Employment.Length_10+ years  Employment.Length_2 years  \\\n",
       "0                            0                          0   \n",
       "1                            0                          0   \n",
       "2                            0                          0   \n",
       "3                            1                          0   \n",
       "4                            1                          0   \n",
       "\n",
       "   Employment.Length_3 years  Employment.Length_4 years  \\\n",
       "0                          0                          0   \n",
       "1                          0                          1   \n",
       "2                          0                          0   \n",
       "3                          0                          0   \n",
       "4                          0                          0   \n",
       "\n",
       "   Employment.Length_5 years  Employment.Length_6 years  \\\n",
       "0                          1                          0   \n",
       "1                          0                          0   \n",
       "2                          0                          0   \n",
       "3                          0                          0   \n",
       "4                          0                          0   \n",
       "\n",
       "   Employment.Length_7 years  Employment.Length_8 years  \\\n",
       "0                          0                          0   \n",
       "1                          0                          0   \n",
       "2                          0                          0   \n",
       "3                          0                          0   \n",
       "4                          0                          0   \n",
       "\n",
       "   Employment.Length_9 years  Employment.Length_< 1 year  \n",
       "0                          0                           0  \n",
       "1                          0                           0  \n",
       "2                          0                           1  \n",
       "3                          0                           0  \n",
       "4                          0                           0  \n",
       "\n",
       "[5 rows x 1568 columns]"
      ]
     },
     "execution_count": 18,
     "metadata": {},
     "output_type": "execute_result"
    }
   ],
   "source": [
    "df3.head()"
   ]
  },
  {
   "cell_type": "markdown",
   "metadata": {},
   "source": [
    "### Step 5: Exploratory Data Analysis"
   ]
  },
  {
   "cell_type": "code",
   "execution_count": 19,
   "metadata": {},
   "outputs": [
    {
     "name": "stdout",
     "output_type": "stream",
     "text": [
      "Amount.Requested              0.329802\n",
      "Interest.Rate                 1.000000\n",
      "Monthly.Income                0.003676\n",
      "Open.CREDIT.Lines             0.094761\n",
      "Revolving.CREDIT.Balance      0.066917\n",
      "                                ...   \n",
      "Employment.Length_6 years     0.006513\n",
      "Employment.Length_7 years     0.002618\n",
      "Employment.Length_8 years    -0.007565\n",
      "Employment.Length_9 years    -0.003080\n",
      "Employment.Length_< 1 year   -0.008691\n",
      "Length: 1568, dtype: float64\n"
     ]
    }
   ],
   "source": [
    "print(df3.corrwith(df3['Interest.Rate']))"
   ]
  },
  {
   "cell_type": "markdown",
   "metadata": {},
   "source": [
    "### Step 6: Model Creation"
   ]
  },
  {
   "cell_type": "code",
   "execution_count": 20,
   "metadata": {},
   "outputs": [],
   "source": [
    "X = df3.drop(columns = ['Interest.Rate'])\n",
    "Y = df3['Interest.Rate'].values"
   ]
  },
  {
   "cell_type": "code",
   "execution_count": 21,
   "metadata": {},
   "outputs": [],
   "source": [
    "from sklearn.model_selection import train_test_split\n",
    "\n",
    "X_train, X_test, Y_train, Y_test = train_test_split(X, Y, test_size=0.3)"
   ]
  },
  {
   "cell_type": "code",
   "execution_count": 22,
   "metadata": {},
   "outputs": [],
   "source": [
    "from sklearn.linear_model import LinearRegression\n",
    "\n",
    "lr = LinearRegression()\n",
    "lr.fit(X_train, Y_train)\n",
    "Ylr = lr.predict(X_test)"
   ]
  },
  {
   "cell_type": "code",
   "execution_count": 23,
   "metadata": {},
   "outputs": [
    {
     "name": "stdout",
     "output_type": "stream",
     "text": [
      "-1404636643.7315147\n",
      "[ 1.49897738e-04 -3.40768580e-05  3.50355672e-02 ...  1.56217760e+05\n",
      "  1.56218221e+05  1.56218315e+05]\n"
     ]
    }
   ],
   "source": [
    "print(lr.intercept_)\n",
    "print(lr.coef_)"
   ]
  }
 ],
 "metadata": {
  "kernelspec": {
   "display_name": "Python 3",
   "language": "python",
   "name": "python3"
  },
  "language_info": {
   "codemirror_mode": {
    "name": "ipython",
    "version": 3
   },
   "file_extension": ".py",
   "mimetype": "text/x-python",
   "name": "python",
   "nbconvert_exporter": "python",
   "pygments_lexer": "ipython3",
   "version": "3.8.3"
  }
 },
 "nbformat": 4,
 "nbformat_minor": 4
}
